{
 "cells": [
  {
   "cell_type": "code",
   "execution_count": 1,
   "metadata": {},
   "outputs": [
    {
     "name": "stdout",
     "output_type": "stream",
     "text": [
      "Building lists and arrays...\n",
      "Done.\n",
      "\n",
      "Representations:\n",
      "list(): [0, 1, 2, 3, 4, 5, 6, 7, 8]\n",
      "array.array(): array('i', [0, 1, 2, 3, 4, 5, 6, 7, 8])\n",
      "np.array() [0 1 2 3 4 5 6 7 8]\n",
      "<class 'list'> <class 'array.array'> <class 'numpy.ndarray'>\n",
      "Done.\n",
      "\n"
     ]
    }
   ],
   "source": [
    "import array\n",
    "import numpy as np\n",
    "\n",
    "print(\"Building lists and arrays...\")\n",
    "# nine ints in a plain Python list\n",
    "nine_ints = range(9)\n",
    "py_list = list(nine_ints)\n",
    "# array.array needs a type spec\n",
    "py_arr = array.array('i', nine_ints)\n",
    "# np.array will infer a dtype\n",
    "np_arr = np.array(nine_ints)\n",
    "print(\"Done.\\n\")\n",
    "\n",
    "print(\"Representations:\")\n",
    "# each repr is a little different\n",
    "print(\"list():\", py_list)\n",
    "print(\"array.array():\", py_arr)\n",
    "print(\"np.array()\", np_arr)\n",
    "# the types are also different\n",
    "print(type(py_list), type(py_arr), type(np_arr))\n",
    "print(\"Done.\\n\")"
   ]
  },
  {
   "cell_type": "code",
   "execution_count": 3,
   "metadata": {},
   "outputs": [
    {
     "name": "stdout",
     "output_type": "stream",
     "text": [
      "Operations:\n",
      "Are the first elements the same?\n",
      "Yes.\n",
      "Are the lengths the same?\n",
      "Yes.\n",
      "Done.\n",
      "\n"
     ]
    }
   ],
   "source": [
    "print(\"Operations:\")\n",
    "# however, thanks to \"Duck Typing\", they operate similarly\n",
    "# they can be simply indexed using integers\n",
    "first_same = py_list[0] == py_arr[0] == np_arr[0]\n",
    "print(\"Are the first elements the same?\")\n",
    "print(\"Yes.\" if first_same else \"No.\") \n",
    "# they can be length-checked using len()\n",
    "lengths_same = len(py_list) == len(py_arr) == len(np_arr)\n",
    "print(\"Are the lengths the same?\")\n",
    "print(\"Yes.\" if lengths_same else \"No.\")\n",
    "print(\"Done.\\n\")"
   ]
  },
  {
   "cell_type": "code",
   "execution_count": 4,
   "metadata": {},
   "outputs": [
    {
     "name": "stdout",
     "output_type": "stream",
     "text": [
      "Iterations:\n",
      "0 1 2 3 4 5 6 7 8 0 1 2 3 4 5 6 7 8 0 1 2 3 4 5 6 7 8 Done.\n"
     ]
    }
   ],
   "source": [
    "print(\"Iterations:\")\n",
    "# they can be iterated using iter() and next()\n",
    "for i in py_list:\n",
    "    print(i, end=' ')\n",
    "for i in py_arr:\n",
    "    print(i, end=' ')\n",
    "for i in np_arr:\n",
    "    print(i, end=' ')\n",
    "print(\"Done.\")"
   ]
  },
  {
   "cell_type": "code",
   "execution_count": 5,
   "metadata": {},
   "outputs": [
    {
     "name": "stdout",
     "output_type": "stream",
     "text": [
      "Memory Sizes:\n",
      "list size: 192\n",
      "array.array size: 128\n",
      "np.array size: 168\n",
      "Done.\n",
      "\n"
     ]
    }
   ],
   "source": [
    "import sys\n",
    "print(\"Memory Sizes:\")\n",
    "# the first big difference is memory -- Python lists\n",
    "# are flexible, but also wasteful in memory storage\n",
    "print(\"list size:\", sys.getsizeof(py_list))\n",
    "print(\"array.array size:\", sys.getsizeof(py_arr))\n",
    "print(\"np.array size:\", sys.getsizeof(np_arr))\n",
    "print(\"Done.\\n\")"
   ]
  },
  {
   "cell_type": "code",
   "execution_count": 6,
   "metadata": {},
   "outputs": [
    {
     "name": "stdout",
     "output_type": "stream",
     "text": [
      "Properties of np.array:\n",
      "flat array:\n",
      "=> array is of shape '(9,)', data type 'int64', and with '1' dimensions.\n",
      "2d array:\n",
      "=> array is of shape '(3, 3)', data type 'int64', and with '2' dimensions.\n",
      "3d array\n",
      "=> array is of shape '(1, 1, 9)', data type 'int64', and with '3' dimensions.\n",
      "Done.\n",
      "\n"
     ]
    }
   ],
   "source": [
    "print(\"Properties of np.array:\")\n",
    "arr = np_arr\n",
    "# every array has a data type, shape, and number of dimensions\n",
    "def print_arr(arr):\n",
    "\tprint(\"=> array is of shape '{}', data type '{}', and with '{}' dimensions.\"\\\n",
    "\t\t.format(arr.shape, arr.dtype, arr.ndim))\n",
    "print(\"flat array:\")\n",
    "print_arr(arr)\n",
    "# we can \"reshape\" an array -- take a 1-row array with 9\n",
    "# columns, and make it a 3x3 grid, 3 columns and 3 rows \n",
    "arr.shape = (3, 3)\n",
    "print(\"2d array:\")\n",
    "print_arr(arr)\n",
    "print(\"3d array\")\n",
    "arr.shape = (1, 1, 9)\n",
    "print_arr(arr)\n",
    "print(\"Done.\\n\")"
   ]
  },
  {
   "cell_type": "code",
   "execution_count": 7,
   "metadata": {},
   "outputs": [
    {
     "name": "stdout",
     "output_type": "stream",
     "text": [
      "Multi-dimensional indexing:\n",
      "(0,): 0\n",
      "(0, 0): 0\n",
      "(0, 0, 0): 0\n",
      "Done.\n",
      "\n"
     ]
    }
   ],
   "source": [
    "print(\"Multi-dimensional indexing:\")\n",
    "arr.shape = (9,)\n",
    "print(\"(0,):\", arr[0])\n",
    "arr.shape = (3, 3)\n",
    "print(\"(0, 0):\", arr[0, 0])\n",
    "arr.shape = (1, 1, 9)\n",
    "print(\"(0, 0, 0):\", arr[0, 0, 0])\n",
    "print(\"Done.\\n\")"
   ]
  },
  {
   "cell_type": "code",
   "execution_count": 8,
   "metadata": {},
   "outputs": [
    {
     "name": "stdout",
     "output_type": "stream",
     "text": [
      "Matrix math:\n",
      "1d array * 2:\n",
      "[ 0  2  4  6  8 10 12 14 16]\n",
      "1d array squared:\n",
      "[ 0  1  4  9 16 25 36 49 64]\n",
      "sum of squares, two ways:\n",
      "204\n",
      "204\n",
      "Done.\n"
     ]
    }
   ],
   "source": [
    "print(\"Matrix math:\")\n",
    "arr.shape = (9,)\n",
    "print(\"1d array * 2:\")\n",
    "print(arr * 2)\n",
    "print(\"1d array squared:\")\n",
    "print(arr * arr)\n",
    "print(\"sum of squares, two ways:\")\n",
    "print((arr * arr).sum())\n",
    "print(arr.dot(arr))\n",
    "print(\"Done.\")"
   ]
  },
  {
   "cell_type": "code",
   "execution_count": 10,
   "metadata": {},
   "outputs": [
    {
     "name": "stdout",
     "output_type": "stream",
     "text": [
      "Boolean indexing:\n",
      "Array of tags:\n",
      "[b'news' b'tech' b'oss' b'book' b'news' b'tech' b'oss' b'book' b'news'\n",
      " b'tech' b'oss' b'book' b'news' b'tech' b'oss' b'book' b'news' b'tech'\n",
      " b'oss' b'book' b'news' b'tech' b'oss' b'book' b'news' b'tech' b'oss'\n",
      " b'book' b'news' b'tech']\n",
      "Array mask for 'news' tag:\n",
      "False\n",
      "Filtered to 'news' cells:\n",
      "[]\n",
      "Done.\n"
     ]
    }
   ],
   "source": [
    "print(\"Boolean indexing:\")\n",
    "import itertools\n",
    "tag_stream = itertools.cycle([\"news\", \"tech\", \"oss\", \"book\"])\n",
    "thirty_tags = itertools.islice(tag_stream, 30)\n",
    "arr = np.array(list(thirty_tags), dtype=\"|S4\")\n",
    "print(\"Array of tags:\")\n",
    "print(arr)\n",
    "print(\"Array mask for 'news' tag:\")\n",
    "print(arr == \"news\")\n",
    "print(\"Filtered to 'news' cells:\")\n",
    "print(arr[arr == \"news\"])\n",
    "print(\"Done.\")"
   ]
  }
 ],
 "metadata": {
  "kernelspec": {
   "display_name": "Python 3",
   "language": "python",
   "name": "python3"
  },
  "language_info": {
   "codemirror_mode": {
    "name": "ipython",
    "version": 3
   },
   "file_extension": ".py",
   "mimetype": "text/x-python",
   "name": "python",
   "nbconvert_exporter": "python",
   "pygments_lexer": "ipython3",
   "version": "3.6.1"
  }
 },
 "nbformat": 4,
 "nbformat_minor": 2
}
